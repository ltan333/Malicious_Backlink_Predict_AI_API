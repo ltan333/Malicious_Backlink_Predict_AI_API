{
 "cells": [
  {
   "cell_type": "code",
   "execution_count": null,
   "metadata": {
    "_cell_guid": "78b0f2bf-28bf-4b68-bc3a-1e95c3d93904",
    "_uuid": "60227fc3-f155-4536-a5de-d91e4913e658",
    "collapsed": false,
    "execution": {
     "iopub.execute_input": "2025-09-18T12:47:58.649675Z",
     "iopub.status.busy": "2025-09-18T12:47:58.649477Z",
     "iopub.status.idle": "2025-09-18T12:48:17.798851Z",
     "shell.execute_reply": "2025-09-18T12:48:17.797792Z",
     "shell.execute_reply.started": "2025-09-18T12:47:58.649646Z"
    },
    "jupyter": {
     "outputs_hidden": false
    },
    "trusted": true
   },
   "outputs": [],
   "source": [
    "!pip install -q py_vncorenlp\n",
    "\n",
    "import os\n",
    "import py_vncorenlp\n",
    "import torch\n",
    "from transformers import AutoTokenizer, AutoModelForSequenceClassification\n",
    "import re"
   ]
  },
  {
   "cell_type": "code",
   "execution_count": null,
   "metadata": {
    "_cell_guid": "5750128f-2da7-47fc-91d5-2a55f27644bf",
    "_uuid": "80c42ece-19d9-45ac-9feb-b87ed9b60f00",
    "collapsed": false,
    "execution": {
     "iopub.execute_input": "2025-09-18T12:48:17.801663Z",
     "iopub.status.busy": "2025-09-18T12:48:17.801035Z",
     "iopub.status.idle": "2025-09-18T12:48:22.931657Z",
     "shell.execute_reply": "2025-09-18T12:48:22.930694Z",
     "shell.execute_reply.started": "2025-09-18T12:48:17.801637Z"
    },
    "jupyter": {
     "outputs_hidden": false
    },
    "trusted": true
   },
   "outputs": [],
   "source": [
    "# Ensure the directory exists before downloading\n",
    "os.makedirs('/kaggle/working/vncorenlp', exist_ok=True)\n",
    "\n",
    "# Download VnCoreNLP model\n",
    "py_vncorenlp.download_model(save_dir='/kaggle/working/vncorenlp')\n",
    "\n",
    "# Load the segmenter\n",
    "rdrsegmenter = py_vncorenlp.VnCoreNLP(\n",
    "    annotators=[\"wseg\"], \n",
    "    save_dir='/kaggle/working/vncorenlp'\n",
    ")\n",
    "\n",
    "# Test word segmentation\n",
    "text = \"Ông Nguyễn Khắc Chúc đang làm việc tại Đại học Quốc gia Hà Nội. Bà Lan, vợ ông Chúc, cũng làm việc tại đây.\"\n",
    "output = rdrsegmenter.word_segment(text)\n",
    "\n",
    "print(output)"
   ]
  },
  {
   "cell_type": "code",
   "execution_count": null,
   "metadata": {
    "_cell_guid": "a310f65f-99d4-4883-ae0d-6ff9dcf03bf8",
    "_uuid": "7afe2326-6451-4b73-b637-97d186649fc1",
    "collapsed": false,
    "execution": {
     "iopub.execute_input": "2025-09-18T12:48:22.938274Z",
     "iopub.status.busy": "2025-09-18T12:48:22.937942Z",
     "iopub.status.idle": "2025-09-18T12:48:51.639081Z",
     "shell.execute_reply": "2025-09-18T12:48:51.638264Z",
     "shell.execute_reply.started": "2025-09-18T12:48:22.938251Z"
    },
    "jupyter": {
     "outputs_hidden": false
    },
    "trusted": true
   },
   "outputs": [],
   "source": [
    "# Map labels\n",
    "label2id = {\n",
    "    \"gambling\": 0, \"movies\": 1, \"ecommerce\": 2, \"government\": 3, \"education\": 4, \"technology\": 5,\n",
    "    \"tourism\": 6, \"health\": 7, \"finance\": 8, \"media\": 9, \"nonprofit\": 10, \"realestate\": 11,\n",
    "    \"services\": 12, \"industries\": 13, \"agriculture\": 14\n",
    "}\n",
    "id2label = {v: k for k, v in label2id.items()}\n",
    "\n",
    "model_path = \"insert-path\"\n",
    "tokenizer = AutoTokenizer.from_pretrained(model_path)\n",
    "model = AutoModelForSequenceClassification.from_pretrained(model_path)\n",
    "device = torch.device(\"cuda\" if torch.cuda.is_available() else \"cpu\")\n",
    "model.to(device)\n",
    "model.eval()"
   ]
  },
  {
   "cell_type": "code",
   "execution_count": null,
   "metadata": {
    "_cell_guid": "fe14d1e5-81e5-47bc-b8d6-fd3647db8ff8",
    "_uuid": "f6cf5dab-5c20-4162-a30d-a4588dec9714",
    "collapsed": false,
    "execution": {
     "iopub.execute_input": "2025-09-18T12:48:51.640544Z",
     "iopub.status.busy": "2025-09-18T12:48:51.639922Z",
     "iopub.status.idle": "2025-09-18T12:48:51.646251Z",
     "shell.execute_reply": "2025-09-18T12:48:51.645699Z",
     "shell.execute_reply.started": "2025-09-18T12:48:51.640525Z"
    },
    "jupyter": {
     "outputs_hidden": false
    },
    "trusted": true
   },
   "outputs": [],
   "source": [
    "def clean_text(text):\n",
    "    # === Preserve domain dots, decimal dots, and URL hyphens ===\n",
    "    text = re.sub(r'(\\w)\\.(?=\\w)', r'\\1<DOMAIN>', text)      # domain dots\n",
    "    text = re.sub(r'(\\d)\\.(?=\\d)', r'\\1<DECIMAL>', text)     # decimal dots\n",
    "    text = re.sub(r'(\\w)-(?=\\w)', r'\\1<HYPHEN>', text)       # hyphen inside words/domains\n",
    "\n",
    "    # === Remove remaining dots and hyphens ===\n",
    "    text = text.replace('.', '')\n",
    "    text = text.replace('-', '')\n",
    "\n",
    "    # === Replace one or more underscores with a single space ===\n",
    "    text = re.sub(r'_+', ' ', text)\n",
    "\n",
    "    # === Restore preserved characters ===\n",
    "    text = text.replace('<DOMAIN>', '.')\n",
    "    text = text.replace('<DECIMAL>', '.')\n",
    "    text = text.replace('<HYPHEN>', '-')\n",
    "\n",
    "    # === Handle commas ===\n",
    "    text = re.sub(r'(?<=[a-z0-9]),(?=[a-z])', ' ', text)  # digit/letter → letter\n",
    "    text = re.sub(r'(?<=[a-z]),(?=[0-9])', ' ', text)     # letter → digit\n",
    "    text = re.sub(r',(?=\\D)|(?<=\\D),', '', text)          # remove other commas\n",
    "\n",
    "    # === Remove unwanted punctuation (keep quotes, %, /) ===\n",
    "    text = re.sub(r'[^\\w\\s\\.,/%\"]', '', text)\n",
    "\n",
    "    # === Normalize spaces ===\n",
    "    text = re.sub(r'\\s+', ' ', text).strip()\n",
    "    \n",
    "    return text"
   ]
  },
  {
   "cell_type": "code",
   "execution_count": null,
   "metadata": {
    "_cell_guid": "691a3252-a38b-4a61-a370-736743719856",
    "_uuid": "6bc60ca3-036f-4bba-8b16-24424a985f85",
    "collapsed": false,
    "execution": {
     "iopub.execute_input": "2025-09-18T12:48:51.672403Z",
     "iopub.status.busy": "2025-09-18T12:48:51.671931Z",
     "iopub.status.idle": "2025-09-18T12:48:51.690384Z",
     "shell.execute_reply": "2025-09-18T12:48:51.689855Z",
     "shell.execute_reply.started": "2025-09-18T12:48:51.672386Z"
    },
    "jupyter": {
     "outputs_hidden": false
    },
    "trusted": true
   },
   "outputs": [],
   "source": [
    "def predict_batch(text_list):\n",
    "    def preprocess(text):\n",
    "        text = clean_text(text)\n",
    "        segmented = rdrsegmenter.word_segment(text)\n",
    "        return ' '.join(segmented)\n",
    "    \n",
    "    # Apply preprocessing\n",
    "    processed_texts = [preprocess(text) for text in text_list]\n",
    "    \n",
    "    # Tokenize\n",
    "    inputs = tokenizer(\n",
    "        processed_texts,\n",
    "        return_tensors=\"pt\",\n",
    "        truncation=True,\n",
    "        padding=\"max_length\",\n",
    "        max_length=64\n",
    "    )\n",
    "    inputs = {key: value.to(device) for key, value in inputs.items()}\n",
    "    # Inference\n",
    "    with torch.no_grad():\n",
    "        outputs = model(**inputs)\n",
    "\n",
    "    logits = outputs.logits\n",
    "    probabilities = torch.softmax(logits, dim=-1)\n",
    "    predicted_class_ids = torch.argmax(probabilities, dim=-1).cpu().numpy()\n",
    "    predicted_labels = [id2label[idx] for idx in predicted_class_ids]\n",
    "\n",
    "    return predicted_labels, probabilities.cpu().numpy()"
   ]
  },
  {
   "cell_type": "code",
   "execution_count": null,
   "metadata": {
    "_cell_guid": "837927f7-6e2b-4fd1-b64e-b78be86f1c01",
    "_uuid": "45c5b779-113e-417d-8ba0-9d8a88e2009d",
    "collapsed": false,
    "execution": {
     "iopub.execute_input": "2025-09-18T12:58:10.176846Z",
     "iopub.status.busy": "2025-09-18T12:58:10.176131Z",
     "iopub.status.idle": "2025-09-18T12:58:10.254536Z",
     "shell.execute_reply": "2025-09-18T12:58:10.253930Z",
     "shell.execute_reply.started": "2025-09-18T12:58:10.176818Z"
    },
    "jupyter": {
     "outputs_hidden": false
    },
    "trusted": true
   },
   "outputs": [],
   "source": [
    "texts = [\n",
    "    # \"Onb🤑Huawei Store51.627.392\",\n",
    "    # \"Onb🤑Huawei Store51.627.392 11 thg 7, 2025 — Onb   đặt chất lượng lên hàng đầu với tiêu chí: không gian chơi phải công bằng, thưởng phải đều, trò chơi phải đa dạng.\",\n",
    "    # \"tặng code nhận kim cương❤️Đáng tin cậy v6.7.5 11 thg 7, 2025 — ️Trong phân khúc xe số thể thao phổ thông, Yamaha Exciter 155 VVA nổi bật với động cơ 155cc tích hợp công nghệ van biến thiên VVA, cho công suất ...\",\n",
    "    # \"Công ty KO66💰Điện tử trực tuyến\",\n",
    "    # \"chung cư dương nội webtretho 🧟 🇲🇽ba sòng bạc hàng ...\",\n",
    "    # \"chung cư dương nội webtretho 🧟 🇲🇽ba sòng bạc hàng ... chung cư dương nội webtretho -Thông thường, các nhà thiết kế RFIC sử dụng các công cụ chuyên dụng để thực hiện xác minh tuần tự, đơn miền, ...\",\n",
    "    # \"quán nhậu tá lả phạm văn đồng ua vé số trực tuyến\",\n",
    "    # \"quán nhậu tá lả phạm văn đồng ua vé số trực tuyến quán nhậu tá lả phạm văn đồng -Thứ trưởng Nguyễn Bá Hoan cho biết, tháng 3 vừa qua, Bộ LĐ-TB-XH đã phối hợp cùng phía Nhật Bản tổ chức thành công kỳ thi ...\",\n",
    "    # \"nạp lần đầu nhận gấp đôi-Điện tử trực tuyến\",\n",
    "    # \"nạp lần đầu nhận gấp đôi-Điện tử trực tuyến 3 ngày trước — nạp lần đầu nhận gấp đôi   xây dựng uy tín từ chính sự công bằng, minh bạch và hệ thống phần thưởng tự động mỗi ngày.\",\n",
    "    # \"tặng code nhận kim cương❤️Đáng tin cậy v6.7.5\",\n",
    "    # \"tặng code nhận kim cương❤️Đáng tin cậy v6.7.5 11 thg 7, 2025 — ️Trong phân khúc xe số thể thao phổ thông, Yamaha Exciter 155 VVA nổi bật với động cơ 155cc tích hợp công nghệ van biến thiên VVA, cho công suất ...\",\n",
    "    # \"KUWiN2 Com💷Huawei Store24.123.745\",\n",
    "    # \"KUWiN2 Com💷Huawei Store24.123.745 4 thg 7, 2025 — Tại KUWiN2 Com  , mọi người đều có cơ hội như nhau. Hệ thống kiểm tra độc lập, thưởng ngày ổn định và kho game đa dạng khiến nơi đây trở ...\",\n",
    "    # \"Nhà🤑Huawei Store51.627.392\",\n",
    "    # \"Nhà🤑Huawei Store51.627.392 2 ngày trước — Nhà  Bạn đang tìm kiếm một nơi chơi game minh bạch, công bằng và thưởng thật mỗi ngày? Nhà   chính là sự lựa chọn được tin tưởng bởi cộng ...\",\n",
    "    # \"sẽ\",\n",
    "    # \"sẽ Cung cấp các dịch vụ và sản phẩm chất lượng của sẽ. Tận hưởng chất lượng và sự hài lòng từ sẽ.️\",\n",
    "    # \"Khuyến mãi cực hot-Aptoide436.818.3\",\n",
    "    # \"thôi rồi ta đã xa nhau\",\n",
    "    # \"tặng code nhận thẻ nạp🤑App Store7.37.371\",\n",
    "    # \"tặng code nhận kim cương❤️Đáng tin cậy v6.7.5\",\n",
    "    # \"Xóc dĩa xanh chín-Điện tử trực tuyến\",\n",
    "    # \"share bài viết nhận code-Huawei Store51.627.392\",\n",
    "    # \"Tỉ lệ cược💷Huawei Store24.123.745\",\n",
    "    # \"KUWiN2 Com💷Huawei Store24.123.745\",\n",
    "    \"Sơ đồ website - UBND quận Cái Răng - Cần Thơ\",\n",
    "    \"Sơ đồ website - UBND quận Cái Răng - Cần Thơ Thông tin tuyên truyền · Giới thiệu Lễ hội bánh dân gian nam bộ lần thứ XI năm 2024 · Thư kêu gọi hưởng ứng “Chiến dịch tuyên truyền, đấu tranh phòng, ...\",\n",
    "    \"Đánh bạc qua mạng-Sòng bạc thông thường của Việt Nam\",\n",
    "    \"Đánh bạc qua mạng-Sòng bạc thông thường của Việt Nam 7 ngày trước — Đánh bạc qua mạng  đem đến cho bạn trải nghiệm cá cược công bằng, được kiểm chứng minh bạch, cùng các trò chơi đa dạng từ kinh điển đến mới ...\",\n",
    "    \"nhận hoàn trả mỗi ngày-Uy Tín và An Toàn\",\n",
    "    \"nhận hoàn trả mỗi ngày-Uy Tín và An Toàn 10 thg 8, 2025 — ️Sáng 9/8, Thủ tướng Phạm Minh Chính đến kiểm tra, đôn đốc tiến độ thi công dự án Đường dây 500kV Lào Cai - Vĩnh Yên trên địa bàn tỉnh Phú Thọ.\",\n",
    "    \"Thủ môn🔴Đảm bảo đánh giá v7.7.1\",\n",
    "    \"3 cây tặng xu miễn phí\",\n",
    "    \"tri ân định kỳ🔴Thương hiệu uy tín v7.3.9\",\n",
    "    \"Cầu thủ bóng chuyền-Đăng ký sẽ tặng bạn 777K\",\n",
    "    \"Sảnh người thật-Thương hiệu uy tín v7.3.9\"\n",
    "] \n",
    "\n",
    "batch_labels, batch_probs = predict_batch(texts)\n",
    "for t, l, p in zip(texts, batch_labels, batch_probs):\n",
    "    print(f\"Text: {t}\\nPredicted: {l}\\n\")"
   ]
  },
  {
   "cell_type": "code",
   "execution_count": null,
   "metadata": {
    "_cell_guid": "0a0bd207-4d9d-422a-9549-02b0566efdc8",
    "_uuid": "01905071-ac33-464f-802c-bfa1ecf916bd",
    "collapsed": false,
    "jupyter": {
     "outputs_hidden": false
    },
    "trusted": true
   },
   "outputs": [],
   "source": []
  }
 ],
 "metadata": {
  "kaggle": {
   "accelerator": "nvidiaTeslaT4",
   "dataSources": [
    {
     "isSourceIdPinned": true,
     "modelId": 421683,
     "modelInstanceId": 403760,
     "sourceId": 509032,
     "sourceType": "modelInstanceVersion"
    },
    {
     "isSourceIdPinned": true,
     "modelId": 436722,
     "modelInstanceId": 419054,
     "sourceId": 548333,
     "sourceType": "modelInstanceVersion"
    }
   ],
   "dockerImageVersionId": 31090,
   "isGpuEnabled": true,
   "isInternetEnabled": true,
   "language": "python",
   "sourceType": "notebook"
  },
  "kernelspec": {
   "display_name": "Python 3",
   "language": "python",
   "name": "python3"
  },
  "language_info": {
   "codemirror_mode": {
    "name": "ipython",
    "version": 3
   },
   "file_extension": ".py",
   "mimetype": "text/x-python",
   "name": "python",
   "nbconvert_exporter": "python",
   "pygments_lexer": "ipython3",
   "version": "3.11.13"
  }
 },
 "nbformat": 4,
 "nbformat_minor": 4
}
